{
  "nbformat": 4,
  "nbformat_minor": 0,
  "metadata": {
    "colab": {
      "provenance": [],
      "machine_shape": "hm",
      "collapsed_sections": [
        "a8yQP9IHKJWv"
      ],
      "mount_file_id": "1qh4ZDqMudBRKzVCp7G0m8GoBLQHHGZ8k",
      "authorship_tag": "ABX9TyNuzoDgfmw2FVqDZaqsRsQV",
      "include_colab_link": true
    },
    "kernelspec": {
      "name": "python3",
      "display_name": "Python 3"
    },
    "language_info": {
      "name": "python"
    },
    "accelerator": "GPU",
    "gpuClass": "premium"
  },
  "cells": [
    {
      "cell_type": "markdown",
      "metadata": {
        "id": "view-in-github",
        "colab_type": "text"
      },
      "source": [
        "<a href=\"https://colab.research.google.com/github/halnegheimish/ForcedInvalidation/blob/main/notebooks/MNLI_FI.ipynb\" target=\"_parent\"><img src=\"https://colab.research.google.com/assets/colab-badge.svg\" alt=\"Open In Colab\"/></a>"
      ]
    },
    {
      "cell_type": "markdown",
      "source": [
        "Code in this notebook is based on https://github.com/huggingface/notebooks/blob/6ca682955173cc9d36ffa431ddda505a048cbe80/examples/text_classification.ipynb"
      ],
      "metadata": {
        "id": "Pxa7C-HTFk0X"
      }
    },
    {
      "cell_type": "markdown",
      "source": [
        "# preliminaries"
      ],
      "metadata": {
        "id": "a8yQP9IHKJWv"
      }
    },
    {
      "cell_type": "code",
      "execution_count": null,
      "metadata": {
        "id": "2i0AGo6fJIRk"
      },
      "outputs": [],
      "source": [
        "! pip install datasets transformers"
      ]
    },
    {
      "cell_type": "code",
      "source": [
        "!apt install subversion"
      ],
      "metadata": {
        "id": "b2QJEAke85LT"
      },
      "execution_count": null,
      "outputs": []
    },
    {
      "cell_type": "code",
      "source": [
        "!mkdir data"
      ],
      "metadata": {
        "id": "eTukkdFUHb7W"
      },
      "execution_count": null,
      "outputs": []
    },
    {
      "cell_type": "code",
      "source": [
        "cd data"
      ],
      "metadata": {
        "id": "9WUq8VxOIje9",
        "colab": {
          "base_uri": "https://localhost:8080/"
        },
        "outputId": "d1a670b7-a855-481b-bccd-679129326069"
      },
      "execution_count": 29,
      "outputs": [
        {
          "output_type": "stream",
          "name": "stdout",
          "text": [
            "/content/data\n"
          ]
        }
      ]
    },
    {
      "cell_type": "code",
      "source": [
        "!svn checkout https://github.com/halnegheimish/ForcedInvalidation/trunk/data/eval/mnli/\n",
        "!svn checkout https://github.com/halnegheimish/ForcedInvalidation/trunk/data/eval/anli/\n"
      ],
      "metadata": {
        "id": "UzlbGT4b8wAo"
      },
      "execution_count": null,
      "outputs": []
    },
    {
      "cell_type": "code",
      "source": [
        "!gdown --fuzzy --folder https://drive.google.com/drive/folders/1UuqBfHn2sOu7KyCajegtuE6gfXLCsvIc?usp=share_link"
      ],
      "metadata": {
        "id": "pHtQZgugAJUm"
      },
      "execution_count": null,
      "outputs": []
    },
    {
      "cell_type": "code",
      "source": [
        "cd .."
      ],
      "metadata": {
        "id": "lBsFCAOaHgGH",
        "colab": {
          "base_uri": "https://localhost:8080/"
        },
        "outputId": "8e07333f-bcea-44e9-e9ed-d641108acb1e"
      },
      "execution_count": 30,
      "outputs": [
        {
          "output_type": "stream",
          "name": "stdout",
          "text": [
            "/content\n"
          ]
        }
      ]
    },
    {
      "cell_type": "code",
      "source": [
        "import itertools\n",
        "import random\n",
        "import numpy as np\n",
        "import torch\n",
        "import pandas as pd\n",
        "\n",
        "seed= 42\n",
        "random.seed(seed)\n",
        "np.random.seed(seed)\n",
        "\n",
        "from transformers import set_seed\n",
        "\n",
        "set_seed(seed)\n"
      ],
      "metadata": {
        "id": "A2SFIrIqKVwg"
      },
      "execution_count": null,
      "outputs": []
    },
    {
      "cell_type": "code",
      "source": [
        "from datasets import load_dataset, load_metric\n",
        "\n",
        "metric = load_metric('glue', 'mnli')"
      ],
      "metadata": {
        "id": "SkTez00Lvzht"
      },
      "execution_count": null,
      "outputs": []
    },
    {
      "cell_type": "markdown",
      "source": [
        "#train model"
      ],
      "metadata": {
        "id": "WR6fobXudcNI"
      }
    },
    {
      "cell_type": "code",
      "source": [
        "from datasets import load_from_disk"
      ],
      "metadata": {
        "id": "acKpUGLuv9g2"
      },
      "execution_count": null,
      "outputs": []
    },
    {
      "cell_type": "code",
      "source": [
        "ngrams_train = load_from_disk('data/mnli/mnli_train_ngrams')"
      ],
      "metadata": {
        "id": "VT4jO4GPv8Lk"
      },
      "execution_count": null,
      "outputs": []
    },
    {
      "cell_type": "code",
      "source": [
        "ngrams_dev= load_from_disk('data/mnli/mnli_val_ngrams')"
      ],
      "metadata": {
        "id": "DzTJ4HH_v8Ll"
      },
      "execution_count": null,
      "outputs": []
    },
    {
      "cell_type": "code",
      "source": [
        "model_checkpoint = \"bert-base-uncased\"\n",
        "batch_size = 16"
      ],
      "metadata": {
        "id": "SUDew_uhdc-o"
      },
      "execution_count": null,
      "outputs": []
    },
    {
      "cell_type": "code",
      "source": [
        "task='mnli'"
      ],
      "metadata": {
        "id": "3_6xw4KsdmnK"
      },
      "execution_count": null,
      "outputs": []
    },
    {
      "cell_type": "code",
      "source": [
        "from transformers import AutoTokenizer\n",
        "    \n",
        "tokenizer = AutoTokenizer.from_pretrained(model_checkpoint, use_fast=True)"
      ],
      "metadata": {
        "id": "kZ36Z9L5dqIt"
      },
      "execution_count": null,
      "outputs": []
    },
    {
      "cell_type": "code",
      "source": [
        "task_to_keys = {\n",
        "    \"cola\": (\"sentence\", None),\n",
        "    \"mnli\": (\"premise\", \"hypothesis\"),\n",
        "    \"mnli-mm\": (\"premise\", \"hypothesis\"),\n",
        "    \"mrpc\": (\"sentence1\", \"sentence2\"),\n",
        "    \"qnli\": (\"question\", \"sentence\"),\n",
        "    \"qqp\": (\"question1\", \"question2\"),\n",
        "    \"rte\": (\"sentence1\", \"sentence2\"),\n",
        "    \"sst2\": (\"sentence\", None),\n",
        "    \"stsb\": (\"sentence1\", \"sentence2\"),\n",
        "    \"wnli\": (\"sentence1\", \"sentence2\"),\n",
        "}"
      ],
      "metadata": {
        "id": "jTkMIsoodxxk"
      },
      "execution_count": null,
      "outputs": []
    },
    {
      "cell_type": "code",
      "source": [
        "sentence1_key, sentence2_key = task_to_keys[task]\n",
        "def preprocess_function(examples):\n",
        "    if sentence2_key is None:\n",
        "        return tokenizer(examples[sentence1_key], truncation=True)\n",
        "    return tokenizer(examples[sentence1_key], examples[sentence2_key], truncation=True)"
      ],
      "metadata": {
        "id": "LzcBmSlXdyXt"
      },
      "execution_count": null,
      "outputs": []
    },
    {
      "cell_type": "code",
      "source": [
        "encoded_train = ngrams_train.map(preprocess_function, batched=True)"
      ],
      "metadata": {
        "id": "hWhoB-Yjd50I"
      },
      "execution_count": null,
      "outputs": []
    },
    {
      "cell_type": "code",
      "source": [
        "encoded_val = ngrams_dev.map(preprocess_function, batched=True)"
      ],
      "metadata": {
        "id": "CMP6iFBOd_SD"
      },
      "execution_count": null,
      "outputs": []
    },
    {
      "cell_type": "code",
      "source": [
        "from transformers import AutoModelForSequenceClassification, TrainingArguments, Trainer\n",
        "\n",
        "num_labels = 4 \n",
        "model = AutoModelForSequenceClassification.from_pretrained(model_checkpoint, num_labels=num_labels)"
      ],
      "metadata": {
        "id": "8YLvOQkxeF3Q"
      },
      "execution_count": null,
      "outputs": []
    },
    {
      "cell_type": "code",
      "source": [
        "metric_name = \"pearson\" if task == \"stsb\" else \"matthews_correlation\" if task == \"cola\" else \"accuracy\"\n",
        "model_name = model_checkpoint.split(\"/\")[-1]\n",
        "\n",
        "args = TrainingArguments(\n",
        "    evaluation_strategy = \"epoch\",\n",
        "    save_strategy = \"epoch\",\n",
        "    learning_rate=2e-5,\n",
        "    per_device_train_batch_size=batch_size,\n",
        "    per_device_eval_batch_size=batch_size,\n",
        "    num_train_epochs=5,\n",
        "    weight_decay=0.01,\n",
        "    load_best_model_at_end=True,\n",
        "    metric_for_best_model=metric_name,\n",
        "    output_dir=f'bert_base_finetuned_mnli_ngrams_{seed}'\n",
        ")"
      ],
      "metadata": {
        "id": "NO5KNI6BeMsK"
      },
      "execution_count": null,
      "outputs": []
    },
    {
      "cell_type": "code",
      "source": [
        "def compute_metrics(eval_pred):\n",
        "    predictions, labels = eval_pred\n",
        "    if task != \"stsb\":\n",
        "        predictions = np.argmax(predictions, axis=1)\n",
        "    else:\n",
        "        predictions = predictions[:, 0]\n",
        "    return  metric.compute(predictions=predictions, references=labels)"
      ],
      "metadata": {
        "id": "-Pu-RYNaejkU"
      },
      "execution_count": null,
      "outputs": []
    },
    {
      "cell_type": "code",
      "source": [
        "trainer = Trainer(\n",
        "    model,\n",
        "    args,\n",
        "    train_dataset=encoded_train,\n",
        "    eval_dataset=encoded_val,\n",
        "    tokenizer=tokenizer,\n",
        "    compute_metrics=compute_metrics\n",
        ")"
      ],
      "metadata": {
        "id": "YPSlGAm8emLd"
      },
      "execution_count": null,
      "outputs": []
    },
    {
      "cell_type": "code",
      "source": [
        "trainer.train()"
      ],
      "metadata": {
        "id": "gSM8OnhDewpd"
      },
      "execution_count": null,
      "outputs": []
    },
    {
      "cell_type": "markdown",
      "source": [
        "#evaluation"
      ],
      "metadata": {
        "id": "3_r-cTVvlLgz"
      }
    },
    {
      "cell_type": "code",
      "source": [
        "datasets=[dict(path='data/mnli/mnli_mm_dev_1gram_p' , name='mnli_mm_1g_p', split='mismatched'),\n",
        "          dict(path='data/mnli/mnli_mm_dev_2gram_p' , name='mnli_mm_2g_p', split='mismatched'),\n",
        "          dict(path='data/mnli/mnli_mm_dev_3gram_p' , name='mnli_mm_3g_p', split='mismatched'),\n",
        "          dict(path='data/mnli/mnli_mm_dev_1gram_h' , name='mnli_mm_1g_h', split='mismatched'),\n",
        "          dict(path='data/mnli/mnli_mm_dev_2gram_h' , name='mnli_mm_2g_h', split='mismatched'),\n",
        "          dict(path='data/mnli/mnli_mm_dev_3gram_h' , name='mnli_mm_3g_h', split='mismatched'),\n",
        "          dict(path='data/mnli/mnli_dev_1gram_p' , name='mnli_1g_p', split='matched'),\n",
        "          dict(path='data/mnli/mnli_dev_2gram_p' , name='mnli_2g_p', split='matched'),\n",
        "          dict(path='data/mnli/mnli_dev_3gram_p' , name='mnli_3g_p', split='matched'),\n",
        "          dict(path='data/mnli/mnli_dev_1gram_h' , name='mnli_1g_h', split='matched'),\n",
        "          dict(path='data/mnli/mnli_dev_2gram_h' , name='mnli_2g_h', split='matched'),\n",
        "          dict(path='data/mnli/mnli_dev_3gram_h' , name='mnli_3g_h', split='matched'),\n",
        "          dict(path='data/anli/anli_dev_r1_1gram_p' , name='anli_r1_1g_p', split='anli_r1'),\n",
        "          dict(path='data/anli/anli_dev_r1_2gram_p' , name='anli_r1_2g_p', split='anli_r1'),\n",
        "          dict(path='data/anli/anli_dev_r1_3gram_p' , name='anli_r1_3g_p', split='anli_r1'),\n",
        "          dict(path='data/anli/anli_dev_r1_1gram_h' , name='anli_r1_1g_h', split='anli_r1'),\n",
        "          dict(path='data/anli/anli_dev_r1_2gram_h' , name='anli_r1_2g_h', split='anli_r1'),\n",
        "          dict(path='data/anli/anli_dev_r1_3gram_h' , name='anli_r1_3g_h', split='anli_r1'),\n",
        "          dict(path='data/anli/anli_dev_r2_1gram_p' , name='anli_r2_1g_p', split='anli_r2'),\n",
        "          dict(path='data/anli/anli_dev_r2_2gram_p' , name='anli_r2_2g_p', split='anli_r2'),\n",
        "          dict(path='data/anli/anli_dev_r2_3gram_p' , name='anli_r2_3g_p', split='anli_r2'),\n",
        "          dict(path='data/anli/anli_dev_r2_1gram_h' , name='anli_r2_1g_h', split='anli_r2'),\n",
        "          dict(path='data/anli/anli_dev_r2_2gram_h' , name='anli_r2_2g_h', split='anli_r2'),\n",
        "          dict(path='data/anli/anli_dev_r2_3gram_h' , name='anli_r2_3g_h', split='anli_r2'),\n",
        "          dict(path='data/anli/anli_dev_r3_1gram_p' , name='anli_r3_1g_p', split='anli_r3'),\n",
        "          dict(path='data/anli/anli_dev_r3_2gram_p' , name='anli_r3_2g_p', split='anli_r3'),\n",
        "          dict(path='data/anli/anli_dev_r3_3gram_p' , name='anli_r3_3g_p', split='anli_r3'),\n",
        "          dict(path='data/anli/anli_dev_r3_1gram_h' , name='anli_r3_1g_h', split='anli_r3'),\n",
        "          dict(path='data/anli/anli_dev_r3_2gram_h' , name='anli_r3_2g_h', split='anli_r3'),\n",
        "          dict(path='data/anli/anli_dev_r3_3gram_h' , name='anli_r3_3g_h', split='anli_r3'), \n",
        "    ]\n",
        "\n",
        "runs=[dict(path='bert_base_finetuned_mnli_ngrams_42/checkpoint-211795/',\n",
        "           name='invalid', seed=42),\n",
        "      ]"
      ],
      "metadata": {
        "id": "3wJwpZFCBmxV"
      },
      "execution_count": null,
      "outputs": []
    },
    {
      "cell_type": "code",
      "source": [
        "def load_model(path):\n",
        "  tokenizer = AutoTokenizer.from_pretrained(path)\n",
        "  model = AutoModelForSequenceClassification.from_pretrained(path)\n",
        "  model_checkpoint=path\n",
        "  model_name = model_checkpoint.split(\"/\")[-2]\n",
        "  args = TrainingArguments(\n",
        "    f\"{model_name}\",\n",
        "    evaluation_strategy = \"epoch\",\n",
        "    save_strategy = \"epoch\",\n",
        "    do_train= False,\n",
        "    do_eval=  True,\n",
        "    per_device_eval_batch_size=16,\n",
        "  )\n",
        "  return tokenizer, model, args\n",
        "\n",
        "\n",
        "def eval_dataset(dataset, tokenizer, model, args):\n",
        "  encoded_dataset= dataset.map(preprocess_function, batched=True)\n",
        "  trainer = Trainer(\n",
        "    model,\n",
        "    args,\n",
        "    train_dataset=None,\n",
        "    eval_dataset=encoded_dataset,\n",
        "    tokenizer=tokenizer,\n",
        "    compute_metrics=compute_metrics,\n",
        "  ) \n",
        "  metrics= trainer.evaluate()\n",
        "  return metrics\n",
        "\n",
        "def eval_dataset(dataset, tokenizer, model, args):\n",
        "  encoded_dataset= dataset.map(preprocess_function, batched=True)\n",
        "  trainer = Trainer(\n",
        "    model,\n",
        "    args,\n",
        "    train_dataset=None,\n",
        "    eval_dataset=encoded_dataset,\n",
        "    tokenizer=tokenizer,\n",
        "    compute_metrics=compute_metrics,\n",
        "  ) \n",
        "  metrics= trainer.evaluate()\n",
        "  return metrics\n",
        "\n",
        "def eval_mnli(tokenizer, model, args):\n",
        "  dataset= load_dataset('glue', 'mnli')['validation_matched']\n",
        "  encoded_dataset= dataset.map(preprocess_function, batched=True)\n",
        "  trainer = Trainer(\n",
        "    model,\n",
        "    args,\n",
        "    train_dataset=None,\n",
        "    eval_dataset=encoded_dataset,\n",
        "    tokenizer=tokenizer,\n",
        "    compute_metrics=compute_metrics,\n",
        "  ) \n",
        "  metrics= trainer.evaluate()\n",
        "  return metrics\n",
        "\n",
        "def eval_mnli_mm(tokenizer, model, args):\n",
        "  dataset= load_dataset('glue', 'mnli')['validation_mismatched']\n",
        "  encoded_dataset= dataset.map(preprocess_function, batched=True)\n",
        "  trainer = Trainer(\n",
        "    model,\n",
        "    args,\n",
        "    train_dataset=None,\n",
        "    eval_dataset=encoded_dataset,\n",
        "    tokenizer=tokenizer,\n",
        "    compute_metrics=compute_metrics,\n",
        "  ) \n",
        "  metrics= trainer.evaluate()\n",
        "  return metrics\n",
        "\n",
        "def eval_anli(tokenizer, model, args, split='r3'):\n",
        "  dataset= load_dataset('anli')[f'dev_{split}']\n",
        "  encoded_dataset= dataset.map(preprocess_function, batched=True)\n",
        "  trainer = Trainer(\n",
        "    model,\n",
        "    args,\n",
        "    train_dataset=None,\n",
        "    eval_dataset=encoded_dataset,\n",
        "    tokenizer=tokenizer,\n",
        "    compute_metrics=compute_metrics,\n",
        "  ) \n",
        "  metrics= trainer.evaluate()\n",
        "  return metrics"
      ],
      "metadata": {
        "id": "1JNSWrXN2sqr"
      },
      "execution_count": null,
      "outputs": []
    },
    {
      "cell_type": "code",
      "source": [
        "results_all={}\n",
        "for run in runs:\n",
        "  tokenizer, model, args= load_model(run['path'])\n",
        "  results_all[f'seed_{run[\"seed\"]}']={}\n",
        "  results_all[f'seed_{run[\"seed\"]}']['dev_matched']=eval_mnli(tokenizer, model, args)['eval_accuracy']\n",
        "  results_all[f'seed_{run[\"seed\"]}']['dev_mismatched']=eval_mnli_mm(tokenizer, model, args)['eval_accuracy']\n",
        "  results_all[f'seed_{run[\"seed\"]}']['dev_anli_r1']=eval_anli(tokenizer, model, args, split='r1')['eval_accuracy']\n",
        "  results_all[f'seed_{run[\"seed\"]}']['dev_anli_r2']=eval_anli(tokenizer, model, args, split='r2')['eval_accuracy']\n",
        "  results_all[f'seed_{run[\"seed\"]}']['dev_anli_r3']=eval_anli(tokenizer, model, args, split='r3')['eval_accuracy']\n",
        "  for dp in datasets:\n",
        "    dataset= load_from_disk(dp['path'])\n",
        "    acc= eval_dataset(dataset, tokenizer, model, args)['eval_accuracy']\n",
        "    results_all[f'seed_{run[\"seed\"]}'][dp['name']]=acc\n",
        "\n",
        "\n"
      ],
      "metadata": {
        "id": "uWoIC7zLAyGt"
      },
      "execution_count": null,
      "outputs": []
    },
    {
      "cell_type": "code",
      "source": [
        "df=pd.DataFrame(results_all)"
      ],
      "metadata": {
        "id": "OUmVKv7MCX3T"
      },
      "execution_count": null,
      "outputs": []
    },
    {
      "cell_type": "code",
      "source": [
        "df"
      ],
      "metadata": {
        "colab": {
          "base_uri": "https://localhost:8080/",
          "height": 1000
        },
        "id": "lSaVUUk6C4mk",
        "outputId": "4e571a2f-193c-47d3-d439-abca1c7627cf"
      },
      "execution_count": null,
      "outputs": [
        {
          "output_type": "execute_result",
          "data": {
            "text/plain": [
              "                 seed_42\n",
              "anli_r1_1g_h    0.001001\n",
              "anli_r1_1g_p    0.000000\n",
              "anli_r1_2g_h    0.006006\n",
              "anli_r1_2g_p    0.000000\n",
              "anli_r1_3g_h    0.015015\n",
              "anli_r1_3g_p    0.001001\n",
              "anli_r2_1g_h    0.002002\n",
              "anli_r2_1g_p    0.000000\n",
              "anli_r2_2g_h    0.010010\n",
              "anli_r2_2g_p    0.000000\n",
              "anli_r2_3g_h    0.014014\n",
              "anli_r2_3g_p    0.000000\n",
              "anli_r3_1g_h    0.003336\n",
              "anli_r3_1g_p    0.000000\n",
              "anli_r3_2g_h    0.008340\n",
              "anli_r3_2g_p    0.000000\n",
              "anli_r3_3g_h    0.020851\n",
              "anli_r3_3g_p    0.000834\n",
              "dev_anli_r1     0.263000\n",
              "dev_anli_r2     0.305000\n",
              "dev_anli_r3     0.313333\n",
              "dev_matched     0.821396\n",
              "dev_mismatched  0.829740\n",
              "mnli_1g_h       0.004629\n",
              "mnli_1g_p       0.005813\n",
              "mnli_2g_h       0.020993\n",
              "mnli_2g_p       0.019593\n",
              "mnli_3g_h       0.042523\n",
              "mnli_3g_p       0.044461\n",
              "mnli_mm_1g_h    0.003455\n",
              "mnli_mm_1g_p    0.004083\n",
              "mnli_mm_2g_h    0.019056\n",
              "mnli_mm_2g_p    0.015286\n",
              "mnli_mm_3g_h    0.045231\n",
              "mnli_mm_3g_p    0.034133"
            ],
            "text/html": [
              "\n",
              "  <div id=\"df-4b45f166-114e-4d05-86b5-89c3a36c94b1\">\n",
              "    <div class=\"colab-df-container\">\n",
              "      <div>\n",
              "<style scoped>\n",
              "    .dataframe tbody tr th:only-of-type {\n",
              "        vertical-align: middle;\n",
              "    }\n",
              "\n",
              "    .dataframe tbody tr th {\n",
              "        vertical-align: top;\n",
              "    }\n",
              "\n",
              "    .dataframe thead th {\n",
              "        text-align: right;\n",
              "    }\n",
              "</style>\n",
              "<table border=\"1\" class=\"dataframe\">\n",
              "  <thead>\n",
              "    <tr style=\"text-align: right;\">\n",
              "      <th></th>\n",
              "      <th>seed_42</th>\n",
              "    </tr>\n",
              "  </thead>\n",
              "  <tbody>\n",
              "    <tr>\n",
              "      <th>anli_r1_1g_h</th>\n",
              "      <td>0.001001</td>\n",
              "    </tr>\n",
              "    <tr>\n",
              "      <th>anli_r1_1g_p</th>\n",
              "      <td>0.000000</td>\n",
              "    </tr>\n",
              "    <tr>\n",
              "      <th>anli_r1_2g_h</th>\n",
              "      <td>0.006006</td>\n",
              "    </tr>\n",
              "    <tr>\n",
              "      <th>anli_r1_2g_p</th>\n",
              "      <td>0.000000</td>\n",
              "    </tr>\n",
              "    <tr>\n",
              "      <th>anli_r1_3g_h</th>\n",
              "      <td>0.015015</td>\n",
              "    </tr>\n",
              "    <tr>\n",
              "      <th>anli_r1_3g_p</th>\n",
              "      <td>0.001001</td>\n",
              "    </tr>\n",
              "    <tr>\n",
              "      <th>anli_r2_1g_h</th>\n",
              "      <td>0.002002</td>\n",
              "    </tr>\n",
              "    <tr>\n",
              "      <th>anli_r2_1g_p</th>\n",
              "      <td>0.000000</td>\n",
              "    </tr>\n",
              "    <tr>\n",
              "      <th>anli_r2_2g_h</th>\n",
              "      <td>0.010010</td>\n",
              "    </tr>\n",
              "    <tr>\n",
              "      <th>anli_r2_2g_p</th>\n",
              "      <td>0.000000</td>\n",
              "    </tr>\n",
              "    <tr>\n",
              "      <th>anli_r2_3g_h</th>\n",
              "      <td>0.014014</td>\n",
              "    </tr>\n",
              "    <tr>\n",
              "      <th>anli_r2_3g_p</th>\n",
              "      <td>0.000000</td>\n",
              "    </tr>\n",
              "    <tr>\n",
              "      <th>anli_r3_1g_h</th>\n",
              "      <td>0.003336</td>\n",
              "    </tr>\n",
              "    <tr>\n",
              "      <th>anli_r3_1g_p</th>\n",
              "      <td>0.000000</td>\n",
              "    </tr>\n",
              "    <tr>\n",
              "      <th>anli_r3_2g_h</th>\n",
              "      <td>0.008340</td>\n",
              "    </tr>\n",
              "    <tr>\n",
              "      <th>anli_r3_2g_p</th>\n",
              "      <td>0.000000</td>\n",
              "    </tr>\n",
              "    <tr>\n",
              "      <th>anli_r3_3g_h</th>\n",
              "      <td>0.020851</td>\n",
              "    </tr>\n",
              "    <tr>\n",
              "      <th>anli_r3_3g_p</th>\n",
              "      <td>0.000834</td>\n",
              "    </tr>\n",
              "    <tr>\n",
              "      <th>dev_anli_r1</th>\n",
              "      <td>0.263000</td>\n",
              "    </tr>\n",
              "    <tr>\n",
              "      <th>dev_anli_r2</th>\n",
              "      <td>0.305000</td>\n",
              "    </tr>\n",
              "    <tr>\n",
              "      <th>dev_anli_r3</th>\n",
              "      <td>0.313333</td>\n",
              "    </tr>\n",
              "    <tr>\n",
              "      <th>dev_matched</th>\n",
              "      <td>0.821396</td>\n",
              "    </tr>\n",
              "    <tr>\n",
              "      <th>dev_mismatched</th>\n",
              "      <td>0.829740</td>\n",
              "    </tr>\n",
              "    <tr>\n",
              "      <th>mnli_1g_h</th>\n",
              "      <td>0.004629</td>\n",
              "    </tr>\n",
              "    <tr>\n",
              "      <th>mnli_1g_p</th>\n",
              "      <td>0.005813</td>\n",
              "    </tr>\n",
              "    <tr>\n",
              "      <th>mnli_2g_h</th>\n",
              "      <td>0.020993</td>\n",
              "    </tr>\n",
              "    <tr>\n",
              "      <th>mnli_2g_p</th>\n",
              "      <td>0.019593</td>\n",
              "    </tr>\n",
              "    <tr>\n",
              "      <th>mnli_3g_h</th>\n",
              "      <td>0.042523</td>\n",
              "    </tr>\n",
              "    <tr>\n",
              "      <th>mnli_3g_p</th>\n",
              "      <td>0.044461</td>\n",
              "    </tr>\n",
              "    <tr>\n",
              "      <th>mnli_mm_1g_h</th>\n",
              "      <td>0.003455</td>\n",
              "    </tr>\n",
              "    <tr>\n",
              "      <th>mnli_mm_1g_p</th>\n",
              "      <td>0.004083</td>\n",
              "    </tr>\n",
              "    <tr>\n",
              "      <th>mnli_mm_2g_h</th>\n",
              "      <td>0.019056</td>\n",
              "    </tr>\n",
              "    <tr>\n",
              "      <th>mnli_mm_2g_p</th>\n",
              "      <td>0.015286</td>\n",
              "    </tr>\n",
              "    <tr>\n",
              "      <th>mnli_mm_3g_h</th>\n",
              "      <td>0.045231</td>\n",
              "    </tr>\n",
              "    <tr>\n",
              "      <th>mnli_mm_3g_p</th>\n",
              "      <td>0.034133</td>\n",
              "    </tr>\n",
              "  </tbody>\n",
              "</table>\n",
              "</div>\n",
              "      <button class=\"colab-df-convert\" onclick=\"convertToInteractive('df-4b45f166-114e-4d05-86b5-89c3a36c94b1')\"\n",
              "              title=\"Convert this dataframe to an interactive table.\"\n",
              "              style=\"display:none;\">\n",
              "        \n",
              "  <svg xmlns=\"http://www.w3.org/2000/svg\" height=\"24px\"viewBox=\"0 0 24 24\"\n",
              "       width=\"24px\">\n",
              "    <path d=\"M0 0h24v24H0V0z\" fill=\"none\"/>\n",
              "    <path d=\"M18.56 5.44l.94 2.06.94-2.06 2.06-.94-2.06-.94-.94-2.06-.94 2.06-2.06.94zm-11 1L8.5 8.5l.94-2.06 2.06-.94-2.06-.94L8.5 2.5l-.94 2.06-2.06.94zm10 10l.94 2.06.94-2.06 2.06-.94-2.06-.94-.94-2.06-.94 2.06-2.06.94z\"/><path d=\"M17.41 7.96l-1.37-1.37c-.4-.4-.92-.59-1.43-.59-.52 0-1.04.2-1.43.59L10.3 9.45l-7.72 7.72c-.78.78-.78 2.05 0 2.83L4 21.41c.39.39.9.59 1.41.59.51 0 1.02-.2 1.41-.59l7.78-7.78 2.81-2.81c.8-.78.8-2.07 0-2.86zM5.41 20L4 18.59l7.72-7.72 1.47 1.35L5.41 20z\"/>\n",
              "  </svg>\n",
              "      </button>\n",
              "      \n",
              "  <style>\n",
              "    .colab-df-container {\n",
              "      display:flex;\n",
              "      flex-wrap:wrap;\n",
              "      gap: 12px;\n",
              "    }\n",
              "\n",
              "    .colab-df-convert {\n",
              "      background-color: #E8F0FE;\n",
              "      border: none;\n",
              "      border-radius: 50%;\n",
              "      cursor: pointer;\n",
              "      display: none;\n",
              "      fill: #1967D2;\n",
              "      height: 32px;\n",
              "      padding: 0 0 0 0;\n",
              "      width: 32px;\n",
              "    }\n",
              "\n",
              "    .colab-df-convert:hover {\n",
              "      background-color: #E2EBFA;\n",
              "      box-shadow: 0px 1px 2px rgba(60, 64, 67, 0.3), 0px 1px 3px 1px rgba(60, 64, 67, 0.15);\n",
              "      fill: #174EA6;\n",
              "    }\n",
              "\n",
              "    [theme=dark] .colab-df-convert {\n",
              "      background-color: #3B4455;\n",
              "      fill: #D2E3FC;\n",
              "    }\n",
              "\n",
              "    [theme=dark] .colab-df-convert:hover {\n",
              "      background-color: #434B5C;\n",
              "      box-shadow: 0px 1px 3px 1px rgba(0, 0, 0, 0.15);\n",
              "      filter: drop-shadow(0px 1px 2px rgba(0, 0, 0, 0.3));\n",
              "      fill: #FFFFFF;\n",
              "    }\n",
              "  </style>\n",
              "\n",
              "      <script>\n",
              "        const buttonEl =\n",
              "          document.querySelector('#df-4b45f166-114e-4d05-86b5-89c3a36c94b1 button.colab-df-convert');\n",
              "        buttonEl.style.display =\n",
              "          google.colab.kernel.accessAllowed ? 'block' : 'none';\n",
              "\n",
              "        async function convertToInteractive(key) {\n",
              "          const element = document.querySelector('#df-4b45f166-114e-4d05-86b5-89c3a36c94b1');\n",
              "          const dataTable =\n",
              "            await google.colab.kernel.invokeFunction('convertToInteractive',\n",
              "                                                     [key], {});\n",
              "          if (!dataTable) return;\n",
              "\n",
              "          const docLinkHtml = 'Like what you see? Visit the ' +\n",
              "            '<a target=\"_blank\" href=https://colab.research.google.com/notebooks/data_table.ipynb>data table notebook</a>'\n",
              "            + ' to learn more about interactive tables.';\n",
              "          element.innerHTML = '';\n",
              "          dataTable['output_type'] = 'display_data';\n",
              "          await google.colab.output.renderOutput(dataTable, element);\n",
              "          const docLink = document.createElement('div');\n",
              "          docLink.innerHTML = docLinkHtml;\n",
              "          element.appendChild(docLink);\n",
              "        }\n",
              "      </script>\n",
              "    </div>\n",
              "  </div>\n",
              "  "
            ]
          },
          "metadata": {},
          "execution_count": 28
        }
      ]
    },
    {
      "cell_type": "code",
      "source": [],
      "metadata": {
        "id": "63pZe7zTHKBk"
      },
      "execution_count": null,
      "outputs": []
    }
  ]
}